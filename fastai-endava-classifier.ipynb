{
 "cells": [
  {
   "cell_type": "markdown",
   "metadata": {},
   "source": [
    "# Endava support tickets classification with fastai"
   ]
  },
  {
   "cell_type": "code",
   "execution_count": 1,
   "metadata": {},
   "outputs": [],
   "source": [
    "from pathlib import Path\n",
    "import pandas as pd\n",
    "from fastai.text import *\n",
    "from sklearn.metrics import classification_report\n",
    "import matplotlib.cm as cm\n",
    "# import pandas_profiling"
   ]
  },
  {
   "cell_type": "markdown",
   "metadata": {},
   "source": [
    "### Explore dataset"
   ]
  },
  {
   "cell_type": "code",
   "execution_count": 2,
   "metadata": {},
   "outputs": [
    {
     "data": {
      "text/plain": [
       "PosixPath('data/Endava')"
      ]
     },
     "execution_count": 2,
     "metadata": {},
     "output_type": "execute_result"
    }
   ],
   "source": [
    "datapath = Path(\"data/Endava\") #'~/projects/data/Endava'\n",
    "bs = 48\n",
    "datapath"
   ]
  },
  {
   "cell_type": "code",
   "execution_count": 3,
   "metadata": {
    "scrolled": true
   },
   "outputs": [
    {
     "name": "stdout",
     "output_type": "stream",
     "text": [
      "<class 'pandas.core.frame.DataFrame'>\n",
      "RangeIndex: 48549 entries, 0 to 48548\n",
      "Data columns (total 9 columns):\n",
      "title               47837 non-null object\n",
      "body                48549 non-null object\n",
      "ticket_type         48549 non-null int64\n",
      "category            48549 non-null int64\n",
      "sub_category1       48549 non-null int64\n",
      "sub_category2       48549 non-null int64\n",
      "business_service    48549 non-null int64\n",
      "urgency             48549 non-null int64\n",
      "impact              48549 non-null int64\n",
      "dtypes: int64(7), object(2)\n",
      "memory usage: 3.3+ MB\n",
      "None\n",
      "4     34061\n",
      "5      9634\n",
      "6      2628\n",
      "7       921\n",
      "11      612\n",
      "8       239\n",
      "9       191\n",
      "3       137\n",
      "1        72\n",
      "12       45\n",
      "0         4\n",
      "2         3\n",
      "10        2\n",
      "Name: category, dtype: int64\n",
      "title                True\n",
      "body                False\n",
      "ticket_type         False\n",
      "category            False\n",
      "sub_category1       False\n",
      "sub_category2       False\n",
      "business_service    False\n",
      "urgency             False\n",
      "impact              False\n",
      "dtype: bool\n"
     ]
    },
    {
     "data": {
      "text/html": [
       "<div>\n",
       "<style scoped>\n",
       "    .dataframe tbody tr th:only-of-type {\n",
       "        vertical-align: middle;\n",
       "    }\n",
       "\n",
       "    .dataframe tbody tr th {\n",
       "        vertical-align: top;\n",
       "    }\n",
       "\n",
       "    .dataframe thead th {\n",
       "        text-align: right;\n",
       "    }\n",
       "</style>\n",
       "<table border=\"1\" class=\"dataframe\">\n",
       "  <thead>\n",
       "    <tr style=\"text-align: right;\">\n",
       "      <th></th>\n",
       "      <th>title</th>\n",
       "      <th>body</th>\n",
       "      <th>ticket_type</th>\n",
       "      <th>category</th>\n",
       "      <th>sub_category1</th>\n",
       "      <th>sub_category2</th>\n",
       "      <th>business_service</th>\n",
       "      <th>urgency</th>\n",
       "      <th>impact</th>\n",
       "    </tr>\n",
       "  </thead>\n",
       "  <tbody>\n",
       "    <tr>\n",
       "      <td>0</td>\n",
       "      <td>NaN</td>\n",
       "      <td>hi since recruiter lead permission approve req...</td>\n",
       "      <td>1</td>\n",
       "      <td>4</td>\n",
       "      <td>2</td>\n",
       "      <td>21</td>\n",
       "      <td>71</td>\n",
       "      <td>3</td>\n",
       "      <td>4</td>\n",
       "    </tr>\n",
       "    <tr>\n",
       "      <td>1</td>\n",
       "      <td>connection with icon</td>\n",
       "      <td>icon dear please setup icon per icon engineers...</td>\n",
       "      <td>1</td>\n",
       "      <td>6</td>\n",
       "      <td>22</td>\n",
       "      <td>7</td>\n",
       "      <td>26</td>\n",
       "      <td>3</td>\n",
       "      <td>4</td>\n",
       "    </tr>\n",
       "    <tr>\n",
       "      <td>2</td>\n",
       "      <td>work experience user</td>\n",
       "      <td>work experience user hi work experience studen...</td>\n",
       "      <td>1</td>\n",
       "      <td>5</td>\n",
       "      <td>13</td>\n",
       "      <td>7</td>\n",
       "      <td>32</td>\n",
       "      <td>3</td>\n",
       "      <td>4</td>\n",
       "    </tr>\n",
       "    <tr>\n",
       "      <td>3</td>\n",
       "      <td>requesting for meeting</td>\n",
       "      <td>requesting meeting hi please help follow equip...</td>\n",
       "      <td>1</td>\n",
       "      <td>5</td>\n",
       "      <td>13</td>\n",
       "      <td>7</td>\n",
       "      <td>32</td>\n",
       "      <td>3</td>\n",
       "      <td>4</td>\n",
       "    </tr>\n",
       "    <tr>\n",
       "      <td>4</td>\n",
       "      <td>reset passwords for external accounts</td>\n",
       "      <td>re expire days hi ask help update passwords co...</td>\n",
       "      <td>1</td>\n",
       "      <td>4</td>\n",
       "      <td>2</td>\n",
       "      <td>76</td>\n",
       "      <td>4</td>\n",
       "      <td>3</td>\n",
       "      <td>4</td>\n",
       "    </tr>\n",
       "  </tbody>\n",
       "</table>\n",
       "</div>"
      ],
      "text/plain": [
       "                                   title  \\\n",
       "0                                    NaN   \n",
       "1                   connection with icon   \n",
       "2                   work experience user   \n",
       "3                 requesting for meeting   \n",
       "4  reset passwords for external accounts   \n",
       "\n",
       "                                                body  ticket_type  category  \\\n",
       "0  hi since recruiter lead permission approve req...            1         4   \n",
       "1  icon dear please setup icon per icon engineers...            1         6   \n",
       "2  work experience user hi work experience studen...            1         5   \n",
       "3  requesting meeting hi please help follow equip...            1         5   \n",
       "4  re expire days hi ask help update passwords co...            1         4   \n",
       "\n",
       "   sub_category1  sub_category2  business_service  urgency  impact  \n",
       "0              2             21                71        3       4  \n",
       "1             22              7                26        3       4  \n",
       "2             13              7                32        3       4  \n",
       "3             13              7                32        3       4  \n",
       "4              2             76                 4        3       4  "
      ]
     },
     "execution_count": 3,
     "metadata": {},
     "output_type": "execute_result"
    }
   ],
   "source": [
    "all_data = pd.read_csv(datapath / 'all_tickets.csv')\n",
    "\n",
    "#all_data.describe().transpose())\n",
    "#all_data.profile_report()\n",
    "\n",
    "print(all_data.info())\n",
    "print(all_data['category'].value_counts())\n",
    "\n",
    "# Check if dataframe contains NaN\n",
    "print(all_data.isna().any())\n",
    "# all_data.loc[all_data['title'].isna()]#.index\n",
    "\n",
    "all_data.head()"
   ]
  },
  {
   "cell_type": "markdown",
   "metadata": {},
   "source": [
    "### Data preprocessing"
   ]
  },
  {
   "cell_type": "code",
   "execution_count": 4,
   "metadata": {},
   "outputs": [
    {
     "name": "stdout",
     "output_type": "stream",
     "text": [
      "<class 'pandas.core.frame.DataFrame'>\n",
      "RangeIndex: 48540 entries, 0 to 48539\n",
      "Data columns (total 3 columns):\n",
      "Category      48540 non-null int64\n",
      "Text          48540 non-null object\n",
      "Validation    48540 non-null bool\n",
      "dtypes: bool(1), int64(1), object(1)\n",
      "memory usage: 806.0+ KB\n",
      "None\n"
     ]
    },
    {
     "data": {
      "text/html": [
       "<div>\n",
       "<style scoped>\n",
       "    .dataframe tbody tr th:only-of-type {\n",
       "        vertical-align: middle;\n",
       "    }\n",
       "\n",
       "    .dataframe tbody tr th {\n",
       "        vertical-align: top;\n",
       "    }\n",
       "\n",
       "    .dataframe thead th {\n",
       "        text-align: right;\n",
       "    }\n",
       "</style>\n",
       "<table border=\"1\" class=\"dataframe\">\n",
       "  <thead>\n",
       "    <tr style=\"text-align: right;\">\n",
       "      <th></th>\n",
       "      <th>Category</th>\n",
       "      <th>Text</th>\n",
       "      <th>Validation</th>\n",
       "    </tr>\n",
       "  </thead>\n",
       "  <tbody>\n",
       "    <tr>\n",
       "      <td>0</td>\n",
       "      <td>4</td>\n",
       "      <td>new starter bucharestwednesday pm re va ne si ...</td>\n",
       "      <td>False</td>\n",
       "    </tr>\n",
       "    <tr>\n",
       "      <td>1</td>\n",
       "      <td>4</td>\n",
       "      <td>log on to oracle for the timelog hi please ris...</td>\n",
       "      <td>False</td>\n",
       "    </tr>\n",
       "    <tr>\n",
       "      <td>2</td>\n",
       "      <td>5</td>\n",
       "      <td>new purchase popurchase po dear purchased cs s...</td>\n",
       "      <td>False</td>\n",
       "    </tr>\n",
       "    <tr>\n",
       "      <td>3</td>\n",
       "      <td>4</td>\n",
       "      <td>add this type of notifications the possible ro...</td>\n",
       "      <td>False</td>\n",
       "    </tr>\n",
       "    <tr>\n",
       "      <td>4</td>\n",
       "      <td>4</td>\n",
       "      <td>passwordwednesday pm hi engineer coming tomorr...</td>\n",
       "      <td>False</td>\n",
       "    </tr>\n",
       "  </tbody>\n",
       "</table>\n",
       "</div>"
      ],
      "text/plain": [
       "   Category                                               Text  Validation\n",
       "0         4  new starter bucharestwednesday pm re va ne si ...       False\n",
       "1         4  log on to oracle for the timelog hi please ris...       False\n",
       "2         5  new purchase popurchase po dear purchased cs s...       False\n",
       "3         4  add this type of notifications the possible ro...       False\n",
       "4         4  passwordwednesday pm hi engineer coming tomorr...       False"
      ]
     },
     "execution_count": 4,
     "metadata": {},
     "output_type": "execute_result"
    }
   ],
   "source": [
    "# Prepare train and test set \n",
    "def preprocess(string): # not used\n",
    "    \"\"\"Input: String. Output: Simplified sting (lowercase, no special characters, ...).\"\"\"\n",
    "    string = string.lower()\n",
    "    string = re.sub(\"[(\\xa0)(\\n)]\", \" \", string) # replace non-breaking space and newline\n",
    "    string = re.sub(\"\\W+\", \" \", string) # replace any non-alphanumeric character\n",
    "    string = re.sub(\"\\d+\", \"0\", string) # replace all digits with 0\n",
    "    string = re.sub(\" +\", \" \", string) # replace multiple spaces\n",
    "    return string\n",
    "\n",
    "# Remove rows containing NaN\n",
    "def replace_nan(df):\n",
    "    new_row = []\n",
    "    for row in df.itertuples():\n",
    "        if pd.isna(row.title):\n",
    "            new_row.append('')\n",
    "        else:\n",
    "            new_row.append(row.title)\n",
    "    return new_row\n",
    "\n",
    "train = pd.read_csv(datapath / 'train.csv')\n",
    "train['title'] = replace_nan(train)\n",
    "train_df = pd.DataFrame({\"Category\": train['category'], \"Text\": train['title'] + train['body']})\n",
    "train_df['Validation'] = False\n",
    "\n",
    "test = pd.read_csv(datapath / 'test.csv')\n",
    "test['title'] = replace_nan(test)\n",
    "test_df = pd.DataFrame({\"Category\": test['category'], \"Text\": test['title'] + test['body']})\n",
    "test_df['Validation'] = True\n",
    "\n",
    "full_df = pd.concat([train_df, test_df], ignore_index=True)\n",
    "\n",
    "print(full_df.info())\n",
    "full_df.head()"
   ]
  },
  {
   "cell_type": "markdown",
   "metadata": {},
   "source": [
    "## Fine-tune pretrained language model"
   ]
  },
  {
   "cell_type": "code",
   "execution_count": 5,
   "metadata": {},
   "outputs": [
    {
     "data": {
      "text/html": [
       "<table border=\"1\" class=\"dataframe\">\n",
       "  <thead>\n",
       "    <tr style=\"text-align: right;\">\n",
       "      <th>idx</th>\n",
       "      <th>text</th>\n",
       "    </tr>\n",
       "  </thead>\n",
       "  <tbody>\n",
       "    <tr>\n",
       "      <td>0</td>\n",
       "      <td>xxunk march logged has resolved hello please sr snow add type possible root cause thank leader ext thursday march logged has resolved hello please advised assigned queue has resolved summary issues reported by added date resolution details mailbox databases after which re activated mailbox databases back per activation preference number resolver resolution date kind regards ext ref msg xxbos passwordwednesday pm hi engineer coming tomorrow replace faulty controller replacement controller</td>\n",
       "    </tr>\n",
       "    <tr>\n",
       "      <td>1</td>\n",
       "      <td>attached form please fill two separate forms back kind regards analyst ext hub thursday split client others hi moment client others thing these separate customers separate budget forecast track separately come back different help splitting others customers thank xxbos reset xxunk inform he returned annual leave can not remember his xxbos link to maps leaver formtuesday july link maps leaver form hello please link maps placed leaver form easier thank</td>\n",
       "    </tr>\n",
       "    <tr>\n",
       "      <td>2</td>\n",
       "      <td>comes but once year thank you for joining bringing cheer fun was for mystery year event we you had great experience celebrating together enjoying xxunk moments even though party over memories laughter still xxunk you can get glimpse moments by checking out pictures here feedback survey we continuously looking improve make you enjoy our future events much possible we would highly appreciate your feedback regarding party let know your opinion</td>\n",
       "    </tr>\n",
       "    <tr>\n",
       "      <td>3</td>\n",
       "      <td>old afterwards old become two weeks means unable change upload files download moment finally after date proceed closing down kindly note deadline site file transfer october enjoy browsing looking forward thank kind regards ext hub xxbos accountwednesday february pm hello started work intern board thank xxbos device alert notification printer alert tray has a problem xxunk printer tray has problem printer details malfunction tray tray copier details malfunction tray tray</td>\n",
       "    </tr>\n",
       "    <tr>\n",
       "      <td>4</td>\n",
       "      <td>confusion task backlog regarding issue story discipline links please help priority issue affecting more please assign right assume issue ad location level please investigation location right named persons also please make reproduces more different locations thank forward tuesday pm re hello please let log understand issue backlog advised by can not intervene further than logging issue please let assist further thank analyst community builder ext hub tuesday pm re seems</td>\n",
       "    </tr>\n",
       "  </tbody>\n",
       "</table>"
      ],
      "text/plain": [
       "<IPython.core.display.HTML object>"
      ]
     },
     "metadata": {},
     "output_type": "display_data"
    }
   ],
   "source": [
    "# Language model data\n",
    "data_lm = (TextList.from_df(full_df, cols='Text')\n",
    "            .split_from_df(col='Validation')\n",
    "            .label_for_lm() # .label_from_df(cols=0)\n",
    "            .databunch(bs=bs))\n",
    "\n",
    "# data_lm = TextLMDataBunch.from_df(datapath, train_df, test_df)\n",
    "data_lm.show_batch()"
   ]
  },
  {
   "cell_type": "code",
   "execution_count": 6,
   "metadata": {},
   "outputs": [],
   "source": [
    "# Load/save databunch\n",
    "data_lm.save('data_lm.pkl')\n",
    "# data_lm = load_data('data_lm.pkl', bs=bs)"
   ]
  },
  {
   "cell_type": "code",
   "execution_count": 7,
   "metadata": {},
   "outputs": [],
   "source": [
    "# Pretrained model based on wikitext-103 dataset\n",
    "learn = language_model_learner(data_lm, AWD_LSTM, drop_mult=0.3, callback_fns=ShowGraph)"
   ]
  },
  {
   "cell_type": "code",
   "execution_count": 8,
   "metadata": {},
   "outputs": [
    {
     "data": {
      "text/html": [],
      "text/plain": [
       "<IPython.core.display.HTML object>"
      ]
     },
     "metadata": {},
     "output_type": "display_data"
    },
    {
     "name": "stdout",
     "output_type": "stream",
     "text": [
      "LR Finder is complete, type {learner_name}.recorder.plot() to see the graph.\n"
     ]
    },
    {
     "data": {
      "image/png": "[encoded data removed]",
      "text/plain": [
       "<Figure size 432x288 with 1 Axes>"
      ]
     },
     "metadata": {
      "needs_background": "light"
     },
     "output_type": "display_data"
    }
   ],
   "source": [
    "learn.lr_find()\n",
    "learn.recorder.plot(skip_end=5)"
   ]
  },
  {
   "cell_type": "code",
   "execution_count": 9,
   "metadata": {},
   "outputs": [
    {
     "data": {
      "text/html": [
       "<table border=\"1\" class=\"dataframe\">\n",
       "  <thead>\n",
       "    <tr style=\"text-align: left;\">\n",
       "      <th>epoch</th>\n",
       "      <th>train_loss</th>\n",
       "      <th>valid_loss</th>\n",
       "      <th>accuracy</th>\n",
       "      <th>time</th>\n",
       "    </tr>\n",
       "  </thead>\n",
       "  <tbody>\n",
       "    <tr>\n",
       "      <td>0</td>\n",
       "      <td>4.705749</td>\n",
       "      <td>4.484204</td>\n",
       "      <td>0.269785</td>\n",
       "      <td>03:15</td>\n",
       "    </tr>\n",
       "  </tbody>\n",
       "</table>"
      ],
      "text/plain": [
       "<IPython.core.display.HTML object>"
      ]
     },
     "metadata": {},
     "output_type": "display_data"
    },
    {
     "data": {
      "image/png": "[encoded data removed]",
      "text/plain": [
       "<Figure size 432x288 with 1 Axes>"
      ]
     },
     "metadata": {},
     "output_type": "display_data"
    }
   ],
   "source": [
    "learn.fit_one_cycle(1, 1e-2, moms=(0.8,0.7))"
   ]
  },
  {
   "cell_type": "code",
   "execution_count": 10,
   "metadata": {},
   "outputs": [],
   "source": [
    "learn.unfreeze()"
   ]
  },
  {
   "cell_type": "code",
   "execution_count": 11,
   "metadata": {},
   "outputs": [
    {
     "data": {
      "text/html": [
       "<table border=\"1\" class=\"dataframe\">\n",
       "  <thead>\n",
       "    <tr style=\"text-align: left;\">\n",
       "      <th>epoch</th>\n",
       "      <th>train_loss</th>\n",
       "      <th>valid_loss</th>\n",
       "      <th>accuracy</th>\n",
       "      <th>time</th>\n",
       "    </tr>\n",
       "  </thead>\n",
       "  <tbody>\n",
       "    <tr>\n",
       "      <td>0</td>\n",
       "      <td>4.178486</td>\n",
       "      <td>4.157518</td>\n",
       "      <td>0.307795</td>\n",
       "      <td>03:55</td>\n",
       "    </tr>\n",
       "    <tr>\n",
       "      <td>1</td>\n",
       "      <td>3.850792</td>\n",
       "      <td>3.890441</td>\n",
       "      <td>0.344539</td>\n",
       "      <td>03:58</td>\n",
       "    </tr>\n",
       "    <tr>\n",
       "      <td>2</td>\n",
       "      <td>3.638028</td>\n",
       "      <td>3.723919</td>\n",
       "      <td>0.367153</td>\n",
       "      <td>03:55</td>\n",
       "    </tr>\n",
       "    <tr>\n",
       "      <td>3</td>\n",
       "      <td>3.349169</td>\n",
       "      <td>3.638151</td>\n",
       "      <td>0.379998</td>\n",
       "      <td>03:51</td>\n",
       "    </tr>\n",
       "    <tr>\n",
       "      <td>4</td>\n",
       "      <td>3.115800</td>\n",
       "      <td>3.599051</td>\n",
       "      <td>0.388955</td>\n",
       "      <td>03:50</td>\n",
       "    </tr>\n",
       "    <tr>\n",
       "      <td>5</td>\n",
       "      <td>2.947399</td>\n",
       "      <td>3.601882</td>\n",
       "      <td>0.392177</td>\n",
       "      <td>03:47</td>\n",
       "    </tr>\n",
       "    <tr>\n",
       "      <td>6</td>\n",
       "      <td>2.851526</td>\n",
       "      <td>3.611149</td>\n",
       "      <td>0.392569</td>\n",
       "      <td>03:54</td>\n",
       "    </tr>\n",
       "  </tbody>\n",
       "</table>"
      ],
      "text/plain": [
       "<IPython.core.display.HTML object>"
      ]
     },
     "metadata": {},
     "output_type": "display_data"
    },
    {
     "data": {
      "image/png": "[encoded data removed]",
      "text/plain": [
       "<Figure size 432x288 with 1 Axes>"
      ]
     },
     "metadata": {},
     "output_type": "display_data"
    },
    {
     "data": {
      "image/png": "[encoded data removed]",
      "text/plain": [
       "<Figure size 432x288 with 1 Axes>"
      ]
     },
     "metadata": {
      "needs_background": "light"
     },
     "output_type": "display_data"
    }
   ],
   "source": [
    "learn.fit_one_cycle(7, 1e-3, moms=(0.8,0.7))"
   ]
  },
  {
   "cell_type": "code",
   "execution_count": 12,
   "metadata": {},
   "outputs": [
    {
     "data": {
      "image/png": "[encoded data removed]",
      "text/plain": [
       "<Figure size 432x288 with 1 Axes>"
      ]
     },
     "metadata": {
      "needs_background": "light"
     },
     "output_type": "display_data"
    }
   ],
   "source": [
    "# learn.recorder.plot_losses()\n",
    "learn.recorder.plot_metrics()"
   ]
  },
  {
   "cell_type": "code",
   "execution_count": 13,
   "metadata": {},
   "outputs": [],
   "source": [
    "learn.save('model_lm')\n",
    "# learn.load('model_lm')"
   ]
  },
  {
   "cell_type": "code",
   "execution_count": 14,
   "metadata": {},
   "outputs": [
    {
     "data": {
      "text/plain": [
       "'Hi my password is expired and can not access could you please help with asap thanks sent monday october re with hello still have before could you please direct thank you'"
      ]
     },
     "execution_count": 14,
     "metadata": {},
     "output_type": "execute_result"
    }
   ],
   "source": [
    "# Test model\n",
    "learn.predict(\"Hi my password is expired and\", n_words=25, temperature=0.75)"
   ]
  },
  {
   "cell_type": "code",
   "execution_count": 15,
   "metadata": {},
   "outputs": [],
   "source": [
    "# Save encoder from model\n",
    "learn.save_encoder('fine_tuned_enc')"
   ]
  },
  {
   "cell_type": "markdown",
   "metadata": {},
   "source": [
    "## Classifier"
   ]
  },
  {
   "cell_type": "code",
   "execution_count": 16,
   "metadata": {},
   "outputs": [
    {
     "data": {
      "text/html": [
       "<table border=\"1\" class=\"dataframe\">\n",
       "  <thead>\n",
       "    <tr style=\"text-align: right;\">\n",
       "      <th>text</th>\n",
       "      <th>target</th>\n",
       "    </tr>\n",
       "  </thead>\n",
       "  <tbody>\n",
       "    <tr>\n",
       "      <td>xxbos complete xxunk complete tab please hi ll have look come back you please log ticket for assign thank you best regards administrator sent monday july fwd complete tab please hi can someone please check out access unable amend tab regards change control one canada square canary wharf change control forwarded message date july re complete tab please hi was previously able complete changes what happened be grateful if you</td>\n",
       "      <td>4</td>\n",
       "    </tr>\n",
       "    <tr>\n",
       "      <td>xxbos ad memberships audit delete users from groupssent tuesday ad memberships delete users groups importance high hi please treat request incident requiring urgent attention please remove list users below groups lists whose names begin either or complete list such groups attached but by you start process number these groups have themselves already deleted you find some below list users any groups by you get process them appreciate large list users</td>\n",
       "      <td>4</td>\n",
       "    </tr>\n",
       "    <tr>\n",
       "      <td>xxbos confluence user accesssent monday october release sprint demo hi please action below thank you manager mobile next vacations th sent monday october re release sprint demo hi unfortunately one users have locked generic confluence i d again instructing them try after unsuccessful attempts can you please reset generic i d confirm test manager testing centre excellence st court chart way west rh sent october re release sprint demo hi</td>\n",
       "      <td>4</td>\n",
       "    </tr>\n",
       "    <tr>\n",
       "      <td>xxbos rejected timecardjuly pm urgent july annual leaves dear please assist issue thank july pm urgent july annual leaves hi please help resolve thanks july urgent july annual leaves dear dear heard testers experiencing certain issues today by persons cards pending date code name task name type location country card status test testing cost regular rejected test testing cost regular rejected test testing cost regular rejected test testing cost regular</td>\n",
       "      <td>4</td>\n",
       "    </tr>\n",
       "    <tr>\n",
       "      <td>xxbos xxunk hi guys please help out providing possible he working client immediate thanks leader november pm re troubleshooting can not good added november pm re troubleshooting hi log log ad then problem thanks leader november pm re troubleshooting hi thank clarifying picker choose provides error let feedback thanks november pm re troubleshooting hi please regarding think accept invitation must getting option sign organizational personal please organizational please note create</td>\n",
       "      <td>5</td>\n",
       "    </tr>\n",
       "  </tbody>\n",
       "</table>"
      ],
      "text/plain": [
       "<IPython.core.display.HTML object>"
      ]
     },
     "metadata": {},
     "output_type": "display_data"
    }
   ],
   "source": [
    "# Classifier model data\n",
    "data_clas = (TextList.from_df(full_df, cols='Text', vocab=data_lm.vocab)\n",
    "             .split_from_df(col='Validation')\n",
    "             .label_from_df(cols='Category')\n",
    "             .databunch(bs=bs))\n",
    "\n",
    "# data_clas = TextClasDataBunch.from_df(train_df, test_df, vocab=data_lm.vocab, bs=bs)\n",
    "\n",
    "data_clas.show_batch()"
   ]
  },
  {
   "cell_type": "code",
   "execution_count": 17,
   "metadata": {},
   "outputs": [],
   "source": [
    "# Load/save databunch\n",
    "data_clas.save('data_clas.pkl')\n",
    "# data_clas = load_data(path, 'data_clas.pkl', bs=bs)"
   ]
  },
  {
   "cell_type": "code",
   "execution_count": 18,
   "metadata": {},
   "outputs": [
    {
     "data": {
      "text/plain": [
       "[1, 3, 4, 5, 6, 7, 8, 9, 11, 12]"
      ]
     },
     "execution_count": 18,
     "metadata": {},
     "output_type": "execute_result"
    }
   ],
   "source": [
    "data_clas.classes"
   ]
  },
  {
   "cell_type": "code",
   "execution_count": 19,
   "metadata": {
    "collapsed": true
   },
   "outputs": [
    {
     "data": {
      "text/plain": [
       "RNNLearner(data=TextClasDataBunch;\n",
       "\n",
       "Train: LabelList (43686 items)\n",
       "x: TextList\n",
       "xxbos new starter bucharestwednesday pm re va ne si va la,xxbos log on to oracle for the xxunk hi please rise assign thank best regards log hi please help having difficulties getting platform senior mob,xxbos new purchase popurchase po dear purchased cs stand alone wireless presentation meeting rooms link please log allocation please help device kind regards administrator,xxbos add this type of notifications the possible root cause xxunk march logged has resolved hello please sr snow add type possible root cause thank leader ext thursday march logged has resolved hello please advised assigned queue has resolved summary issues reported by added date resolution details mailbox databases after which re activated mailbox databases back per activation preference number resolver resolution date kind regards ext ref msg,xxbos passwordwednesday pm hi engineer coming tomorrow replace faulty controller replacement controller configured entered console thames suite thankyou\n",
       "y: CategoryList\n",
       "4,4,5,4,4\n",
       "Path: .;\n",
       "\n",
       "Valid: LabelList (4854 items)\n",
       "x: TextList\n",
       "xxbos reportreport hi form review comment allow make comments compliance kindly ask you fix kind regards senior manager,xxbos weekly renewalweekly renewal dear please be advised guest successfully changed quotes following devices none failed change reason connection timed out reason connection timed out case you found any devices under failed list or if any other errors were reported please contact have great ahead,xxbos possible few days left for tax filing due date file your taxes xxunk days left for tax filing due date file your taxes could you please believe kind virus sent monday july few days left for tax filing due date file your taxes hi made tax filing much easier faster year you need form finish your tax filing less than minutes start you can file yourself for free matter how complex your returns have switched jobs multiple form individuals having income gains interest etc foreign income income xxunk start please file avoid rush before last date thanks st july onwards mandatory link your xxunk with mention your returns if you have for you can mention xxunk number your returns if you would like receive these please here,xxbos incorrect time staff cost new passent wednesday february incorrect cost importance high hello guys contract hours for days were imported below instead what was logged invoiced client please could you fix prevent issue going forward worked correctly before thanks officer,xxbos add to mailbox fullwednesday december pm mailbox hi please add member write ability mailbox thanks officer\n",
       "y: CategoryList\n",
       "4,8,11,4,4\n",
       "Path: .;\n",
       "\n",
       "Test: None, model=SequentialRNN(\n",
       "  (0): MultiBatchEncoder(\n",
       "    (module): AWD_LSTM(\n",
       "      (encoder): Embedding(10672, 400, padding_idx=1)\n",
       "      (encoder_dp): EmbeddingDropout(\n",
       "        (emb): Embedding(10672, 400, padding_idx=1)\n",
       "      )\n",
       "      (rnns): ModuleList(\n",
       "        (0): WeightDropout(\n",
       "          (module): LSTM(400, 1152, batch_first=True)\n",
       "        )\n",
       "        (1): WeightDropout(\n",
       "          (module): LSTM(1152, 1152, batch_first=True)\n",
       "        )\n",
       "        (2): WeightDropout(\n",
       "          (module): LSTM(1152, 400, batch_first=True)\n",
       "        )\n",
       "      )\n",
       "      (input_dp): RNNDropout()\n",
       "      (hidden_dps): ModuleList(\n",
       "        (0): RNNDropout()\n",
       "        (1): RNNDropout()\n",
       "        (2): RNNDropout()\n",
       "      )\n",
       "    )\n",
       "  )\n",
       "  (1): PoolingLinearClassifier(\n",
       "    (layers): Sequential(\n",
       "      (0): BatchNorm1d(1200, eps=1e-05, momentum=0.1, affine=True, track_running_stats=True)\n",
       "      (1): Dropout(p=0.2, inplace=False)\n",
       "      (2): Linear(in_features=1200, out_features=50, bias=True)\n",
       "      (3): ReLU(inplace=True)\n",
       "      (4): BatchNorm1d(50, eps=1e-05, momentum=0.1, affine=True, track_running_stats=True)\n",
       "      (5): Dropout(p=0.1, inplace=False)\n",
       "      (6): Linear(in_features=50, out_features=10, bias=True)\n",
       "    )\n",
       "  )\n",
       "), opt_func=functools.partial(<class 'torch.optim.adam.Adam'>, betas=(0.9, 0.99)), loss_func=FlattenedLoss of CrossEntropyLoss(), metrics=[<function accuracy at 0x7f81f43607b8>], true_wd=True, bn_wd=True, wd=0.01, train_bn=True, path=PosixPath('.'), model_dir='models', callback_fns=[functools.partial(<class 'fastai.basic_train.Recorder'>, add_time=True, silent=False), <class 'fastai.train.ShowGraph'>], callbacks=[RNNTrainer\n",
       "learn: RNNLearner(data=TextClasDataBunch;\n",
       "\n",
       "Train: LabelList (43686 items)\n",
       "x: TextList\n",
       "xxbos new starter bucharestwednesday pm re va ne si va la,xxbos log on to oracle for the xxunk hi please rise assign thank best regards log hi please help having difficulties getting platform senior mob,xxbos new purchase popurchase po dear purchased cs stand alone wireless presentation meeting rooms link please log allocation please help device kind regards administrator,xxbos add this type of notifications the possible root cause xxunk march logged has resolved hello please sr snow add type possible root cause thank leader ext thursday march logged has resolved hello please advised assigned queue has resolved summary issues reported by added date resolution details mailbox databases after which re activated mailbox databases back per activation preference number resolver resolution date kind regards ext ref msg,xxbos passwordwednesday pm hi engineer coming tomorrow replace faulty controller replacement controller configured entered console thames suite thankyou\n",
       "y: CategoryList\n",
       "4,4,5,4,4\n",
       "Path: .;\n",
       "\n",
       "Valid: LabelList (4854 items)\n",
       "x: TextList\n",
       "xxbos reportreport hi form review comment allow make comments compliance kindly ask you fix kind regards senior manager,xxbos weekly renewalweekly renewal dear please be advised guest successfully changed quotes following devices none failed change reason connection timed out reason connection timed out case you found any devices under failed list or if any other errors were reported please contact have great ahead,xxbos possible few days left for tax filing due date file your taxes xxunk days left for tax filing due date file your taxes could you please believe kind virus sent monday july few days left for tax filing due date file your taxes hi made tax filing much easier faster year you need form finish your tax filing less than minutes start you can file yourself for free matter how complex your returns have switched jobs multiple form individuals having income gains interest etc foreign income income xxunk start please file avoid rush before last date thanks st july onwards mandatory link your xxunk with mention your returns if you have for you can mention xxunk number your returns if you would like receive these please here,xxbos incorrect time staff cost new passent wednesday february incorrect cost importance high hello guys contract hours for days were imported below instead what was logged invoiced client please could you fix prevent issue going forward worked correctly before thanks officer,xxbos add to mailbox fullwednesday december pm mailbox hi please add member write ability mailbox thanks officer\n",
       "y: CategoryList\n",
       "4,8,11,4,4\n",
       "Path: .;\n",
       "\n",
       "Test: None, model=SequentialRNN(\n",
       "  (0): MultiBatchEncoder(\n",
       "    (module): AWD_LSTM(\n",
       "      (encoder): Embedding(10672, 400, padding_idx=1)\n",
       "      (encoder_dp): EmbeddingDropout(\n",
       "        (emb): Embedding(10672, 400, padding_idx=1)\n",
       "      )\n",
       "      (rnns): ModuleList(\n",
       "        (0): WeightDropout(\n",
       "          (module): LSTM(400, 1152, batch_first=True)\n",
       "        )\n",
       "        (1): WeightDropout(\n",
       "          (module): LSTM(1152, 1152, batch_first=True)\n",
       "        )\n",
       "        (2): WeightDropout(\n",
       "          (module): LSTM(1152, 400, batch_first=True)\n",
       "        )\n",
       "      )\n",
       "      (input_dp): RNNDropout()\n",
       "      (hidden_dps): ModuleList(\n",
       "        (0): RNNDropout()\n",
       "        (1): RNNDropout()\n",
       "        (2): RNNDropout()\n",
       "      )\n",
       "    )\n",
       "  )\n",
       "  (1): PoolingLinearClassifier(\n",
       "    (layers): Sequential(\n",
       "      (0): BatchNorm1d(1200, eps=1e-05, momentum=0.1, affine=True, track_running_stats=True)\n",
       "      (1): Dropout(p=0.2, inplace=False)\n",
       "      (2): Linear(in_features=1200, out_features=50, bias=True)\n",
       "      (3): ReLU(inplace=True)\n",
       "      (4): BatchNorm1d(50, eps=1e-05, momentum=0.1, affine=True, track_running_stats=True)\n",
       "      (5): Dropout(p=0.1, inplace=False)\n",
       "      (6): Linear(in_features=50, out_features=10, bias=True)\n",
       "    )\n",
       "  )\n",
       "), opt_func=functools.partial(<class 'torch.optim.adam.Adam'>, betas=(0.9, 0.99)), loss_func=FlattenedLoss of CrossEntropyLoss(), metrics=[<function accuracy at 0x7f81f43607b8>], true_wd=True, bn_wd=True, wd=0.01, train_bn=True, path=PosixPath('.'), model_dir='models', callback_fns=[functools.partial(<class 'fastai.basic_train.Recorder'>, add_time=True, silent=False), <class 'fastai.train.ShowGraph'>], callbacks=[...], layer_groups=[Sequential(\n",
       "  (0): Embedding(10672, 400, padding_idx=1)\n",
       "  (1): EmbeddingDropout(\n",
       "    (emb): Embedding(10672, 400, padding_idx=1)\n",
       "  )\n",
       "), Sequential(\n",
       "  (0): WeightDropout(\n",
       "    (module): LSTM(400, 1152, batch_first=True)\n",
       "  )\n",
       "  (1): RNNDropout()\n",
       "), Sequential(\n",
       "  (0): WeightDropout(\n",
       "    (module): LSTM(1152, 1152, batch_first=True)\n",
       "  )\n",
       "  (1): RNNDropout()\n",
       "), Sequential(\n",
       "  (0): WeightDropout(\n",
       "    (module): LSTM(1152, 400, batch_first=True)\n",
       "  )\n",
       "  (1): RNNDropout()\n",
       "), Sequential(\n",
       "  (0): PoolingLinearClassifier(\n",
       "    (layers): Sequential(\n",
       "      (0): BatchNorm1d(1200, eps=1e-05, momentum=0.1, affine=True, track_running_stats=True)\n",
       "      (1): Dropout(p=0.2, inplace=False)\n",
       "      (2): Linear(in_features=1200, out_features=50, bias=True)\n",
       "      (3): ReLU(inplace=True)\n",
       "      (4): BatchNorm1d(50, eps=1e-05, momentum=0.1, affine=True, track_running_stats=True)\n",
       "      (5): Dropout(p=0.1, inplace=False)\n",
       "      (6): Linear(in_features=50, out_features=10, bias=True)\n",
       "    )\n",
       "  )\n",
       ")], add_time=True, silent=False, cb_fns_registered=False)\n",
       "alpha: 2.0\n",
       "beta: 1.0], layer_groups=[Sequential(\n",
       "  (0): Embedding(10672, 400, padding_idx=1)\n",
       "  (1): EmbeddingDropout(\n",
       "    (emb): Embedding(10672, 400, padding_idx=1)\n",
       "  )\n",
       "), Sequential(\n",
       "  (0): WeightDropout(\n",
       "    (module): LSTM(400, 1152, batch_first=True)\n",
       "  )\n",
       "  (1): RNNDropout()\n",
       "), Sequential(\n",
       "  (0): WeightDropout(\n",
       "    (module): LSTM(1152, 1152, batch_first=True)\n",
       "  )\n",
       "  (1): RNNDropout()\n",
       "), Sequential(\n",
       "  (0): WeightDropout(\n",
       "    (module): LSTM(1152, 400, batch_first=True)\n",
       "  )\n",
       "  (1): RNNDropout()\n",
       "), Sequential(\n",
       "  (0): PoolingLinearClassifier(\n",
       "    (layers): Sequential(\n",
       "      (0): BatchNorm1d(1200, eps=1e-05, momentum=0.1, affine=True, track_running_stats=True)\n",
       "      (1): Dropout(p=0.2, inplace=False)\n",
       "      (2): Linear(in_features=1200, out_features=50, bias=True)\n",
       "      (3): ReLU(inplace=True)\n",
       "      (4): BatchNorm1d(50, eps=1e-05, momentum=0.1, affine=True, track_running_stats=True)\n",
       "      (5): Dropout(p=0.1, inplace=False)\n",
       "      (6): Linear(in_features=50, out_features=10, bias=True)\n",
       "    )\n",
       "  )\n",
       ")], add_time=True, silent=False, cb_fns_registered=False)"
      ]
     },
     "execution_count": 19,
     "metadata": {},
     "output_type": "execute_result"
    }
   ],
   "source": [
    "learn_cl = text_classifier_learner(data_clas, AWD_LSTM, drop_mult=0.5, callback_fns=ShowGraph)\n",
    "                               #metrics=[accuracy, Precision(), Recall(), FBeta(beta=1, average='micro')])\n",
    "learn_cl.load_encoder('fine_tuned_enc')"
   ]
  },
  {
   "cell_type": "code",
   "execution_count": 20,
   "metadata": {},
   "outputs": [
    {
     "data": {
      "text/html": [],
      "text/plain": [
       "<IPython.core.display.HTML object>"
      ]
     },
     "metadata": {},
     "output_type": "display_data"
    },
    {
     "name": "stdout",
     "output_type": "stream",
     "text": [
      "LR Finder is complete, type {learner_name}.recorder.plot() to see the graph.\n"
     ]
    },
    {
     "data": {
      "image/png": "[encoded data removed]",
      "text/plain": [
       "<Figure size 432x288 with 1 Axes>"
      ]
     },
     "metadata": {
      "needs_background": "light"
     },
     "output_type": "display_data"
    }
   ],
   "source": [
    "learn_cl.lr_find()\n",
    "learn_cl.recorder.plot()"
   ]
  },
  {
   "cell_type": "code",
   "execution_count": 21,
   "metadata": {},
   "outputs": [
    {
     "data": {
      "text/html": [
       "<table border=\"1\" class=\"dataframe\">\n",
       "  <thead>\n",
       "    <tr style=\"text-align: left;\">\n",
       "      <th>epoch</th>\n",
       "      <th>train_loss</th>\n",
       "      <th>valid_loss</th>\n",
       "      <th>accuracy</th>\n",
       "      <th>time</th>\n",
       "    </tr>\n",
       "  </thead>\n",
       "  <tbody>\n",
       "    <tr>\n",
       "      <td>0</td>\n",
       "      <td>0.503952</td>\n",
       "      <td>0.413293</td>\n",
       "      <td>0.865472</td>\n",
       "      <td>01:56</td>\n",
       "    </tr>\n",
       "  </tbody>\n",
       "</table>"
      ],
      "text/plain": [
       "<IPython.core.display.HTML object>"
      ]
     },
     "metadata": {},
     "output_type": "display_data"
    },
    {
     "data": {
      "image/png": "[encoded data removed]",
      "text/plain": [
       "<Figure size 432x288 with 1 Axes>"
      ]
     },
     "metadata": {},
     "output_type": "display_data"
    }
   ],
   "source": [
    "learn_cl.fit_one_cycle(1, 2e-2, moms=(0.8,0.7))"
   ]
  },
  {
   "cell_type": "code",
   "execution_count": 57,
   "metadata": {},
   "outputs": [
    {
     "data": {
      "text/html": [
       "<table border=\"1\" class=\"dataframe\">\n",
       "  <thead>\n",
       "    <tr style=\"text-align: left;\">\n",
       "      <th>epoch</th>\n",
       "      <th>train_loss</th>\n",
       "      <th>valid_loss</th>\n",
       "      <th>accuracy</th>\n",
       "      <th>time</th>\n",
       "    </tr>\n",
       "  </thead>\n",
       "  <tbody>\n",
       "    <tr>\n",
       "      <td>0</td>\n",
       "      <td>0.365959</td>\n",
       "      <td>0.355735</td>\n",
       "      <td>0.882571</td>\n",
       "      <td>03:40</td>\n",
       "    </tr>\n",
       "    <tr>\n",
       "      <td>1</td>\n",
       "      <td>0.310232</td>\n",
       "      <td>0.351204</td>\n",
       "      <td>0.886073</td>\n",
       "      <td>03:37</td>\n",
       "    </tr>\n",
       "  </tbody>\n",
       "</table>"
      ],
      "text/plain": [
       "<IPython.core.display.HTML object>"
      ]
     },
     "metadata": {},
     "output_type": "display_data"
    },
    {
     "data": {
      "image/png": "[encoded data removed]",
      "text/plain": [
       "<Figure size 432x288 with 1 Axes>"
      ]
     },
     "metadata": {},
     "output_type": "display_data"
    }
   ],
   "source": [
    "learn_cl.freeze_to(-3)\n",
    "learn_cl.fit_one_cycle(2, slice(5e-3/(2.6**4),5e-3), moms=(0.8,0.7))"
   ]
  },
  {
   "cell_type": "code",
   "execution_count": 55,
   "metadata": {},
   "outputs": [
    {
     "data": {
      "text/html": [
       "<table border=\"1\" class=\"dataframe\">\n",
       "  <thead>\n",
       "    <tr style=\"text-align: left;\">\n",
       "      <th>epoch</th>\n",
       "      <th>train_loss</th>\n",
       "      <th>valid_loss</th>\n",
       "      <th>accuracy</th>\n",
       "      <th>time</th>\n",
       "    </tr>\n",
       "  </thead>\n",
       "  <tbody>\n",
       "    <tr>\n",
       "      <td>0</td>\n",
       "      <td>0.336824</td>\n",
       "      <td>0.369544</td>\n",
       "      <td>0.874330</td>\n",
       "      <td>03:28</td>\n",
       "    </tr>\n",
       "    <tr>\n",
       "      <td>1</td>\n",
       "      <td>0.275129</td>\n",
       "      <td>0.352639</td>\n",
       "      <td>0.887103</td>\n",
       "      <td>04:00</td>\n",
       "    </tr>\n",
       "  </tbody>\n",
       "</table>"
      ],
      "text/plain": [
       "<IPython.core.display.HTML object>"
      ]
     },
     "metadata": {},
     "output_type": "display_data"
    },
    {
     "data": {
      "image/png": "[encoded data removed]",
      "text/plain": [
       "<Figure size 432x288 with 1 Axes>"
      ]
     },
     "metadata": {},
     "output_type": "display_data"
    }
   ],
   "source": [
    "learn_cl.freeze_to(-3)\n",
    "learn_cl.fit_one_cycle(2, slice(5e-3/(2.6**4),5e-3), moms=(0.8,0.7))"
   ]
  },
  {
   "cell_type": "code",
   "execution_count": 23,
   "metadata": {},
   "outputs": [
    {
     "data": {
      "text/html": [
       "<table border=\"1\" class=\"dataframe\">\n",
       "  <thead>\n",
       "    <tr style=\"text-align: left;\">\n",
       "      <th>epoch</th>\n",
       "      <th>train_loss</th>\n",
       "      <th>valid_loss</th>\n",
       "      <th>accuracy</th>\n",
       "      <th>time</th>\n",
       "    </tr>\n",
       "  </thead>\n",
       "  <tbody>\n",
       "    <tr>\n",
       "      <td>0</td>\n",
       "      <td>0.313327</td>\n",
       "      <td>0.344761</td>\n",
       "      <td>0.886485</td>\n",
       "      <td>05:11</td>\n",
       "    </tr>\n",
       "    <tr>\n",
       "      <td>1</td>\n",
       "      <td>0.312326</td>\n",
       "      <td>0.340304</td>\n",
       "      <td>0.887927</td>\n",
       "      <td>05:21</td>\n",
       "    </tr>\n",
       "  </tbody>\n",
       "</table>"
      ],
      "text/plain": [
       "<IPython.core.display.HTML object>"
      ]
     },
     "metadata": {},
     "output_type": "display_data"
    },
    {
     "data": {
      "image/png": "[encoded data removed]",
      "text/plain": [
       "<Figure size 432x288 with 1 Axes>"
      ]
     },
     "metadata": {},
     "output_type": "display_data"
    }
   ],
   "source": [
    "learn_cl.unfreeze()\n",
    "learn_cl.fit_one_cycle(2, slice(1e-3/(2.6**4),1e-3), moms=(0.8,0.7))\n",
    "#learn_cl.freeze()"
   ]
  },
  {
   "cell_type": "code",
   "execution_count": 56,
   "metadata": {},
   "outputs": [
    {
     "data": {
      "text/plain": [
       "RNNLearner(data=TextClasDataBunch;\n",
       "\n",
       "Train: LabelList (43686 items)\n",
       "x: TextList\n",
       "xxbos new starter bucharestwednesday pm re va ne si va la,xxbos log on to oracle for the xxunk hi please rise assign thank best regards log hi please help having difficulties getting platform senior mob,xxbos new purchase popurchase po dear purchased cs stand alone wireless presentation meeting rooms link please log allocation please help device kind regards administrator,xxbos add this type of notifications the possible root cause xxunk march logged has resolved hello please sr snow add type possible root cause thank leader ext thursday march logged has resolved hello please advised assigned queue has resolved summary issues reported by added date resolution details mailbox databases after which re activated mailbox databases back per activation preference number resolver resolution date kind regards ext ref msg,xxbos passwordwednesday pm hi engineer coming tomorrow replace faulty controller replacement controller configured entered console thames suite thankyou\n",
       "y: CategoryList\n",
       "4,4,5,4,4\n",
       "Path: .;\n",
       "\n",
       "Valid: LabelList (4854 items)\n",
       "x: TextList\n",
       "xxbos reportreport hi form review comment allow make comments compliance kindly ask you fix kind regards senior manager,xxbos weekly renewalweekly renewal dear please be advised guest successfully changed quotes following devices none failed change reason connection timed out reason connection timed out case you found any devices under failed list or if any other errors were reported please contact have great ahead,xxbos possible few days left for tax filing due date file your taxes xxunk days left for tax filing due date file your taxes could you please believe kind virus sent monday july few days left for tax filing due date file your taxes hi made tax filing much easier faster year you need form finish your tax filing less than minutes start you can file yourself for free matter how complex your returns have switched jobs multiple form individuals having income gains interest etc foreign income income xxunk start please file avoid rush before last date thanks st july onwards mandatory link your xxunk with mention your returns if you have for you can mention xxunk number your returns if you would like receive these please here,xxbos incorrect time staff cost new passent wednesday february incorrect cost importance high hello guys contract hours for days were imported below instead what was logged invoiced client please could you fix prevent issue going forward worked correctly before thanks officer,xxbos add to mailbox fullwednesday december pm mailbox hi please add member write ability mailbox thanks officer\n",
       "y: CategoryList\n",
       "4,8,11,4,4\n",
       "Path: .;\n",
       "\n",
       "Test: None, model=SequentialRNN(\n",
       "  (0): MultiBatchEncoder(\n",
       "    (module): AWD_LSTM(\n",
       "      (encoder): Embedding(10672, 400, padding_idx=1)\n",
       "      (encoder_dp): EmbeddingDropout(\n",
       "        (emb): Embedding(10672, 400, padding_idx=1)\n",
       "      )\n",
       "      (rnns): ModuleList(\n",
       "        (0): WeightDropout(\n",
       "          (module): LSTM(400, 1152, batch_first=True)\n",
       "        )\n",
       "        (1): WeightDropout(\n",
       "          (module): LSTM(1152, 1152, batch_first=True)\n",
       "        )\n",
       "        (2): WeightDropout(\n",
       "          (module): LSTM(1152, 400, batch_first=True)\n",
       "        )\n",
       "      )\n",
       "      (input_dp): RNNDropout()\n",
       "      (hidden_dps): ModuleList(\n",
       "        (0): RNNDropout()\n",
       "        (1): RNNDropout()\n",
       "        (2): RNNDropout()\n",
       "      )\n",
       "    )\n",
       "  )\n",
       "  (1): PoolingLinearClassifier(\n",
       "    (layers): Sequential(\n",
       "      (0): BatchNorm1d(1200, eps=1e-05, momentum=0.1, affine=True, track_running_stats=True)\n",
       "      (1): Dropout(p=0.2, inplace=False)\n",
       "      (2): Linear(in_features=1200, out_features=50, bias=True)\n",
       "      (3): ReLU(inplace=True)\n",
       "      (4): BatchNorm1d(50, eps=1e-05, momentum=0.1, affine=True, track_running_stats=True)\n",
       "      (5): Dropout(p=0.1, inplace=False)\n",
       "      (6): Linear(in_features=50, out_features=10, bias=True)\n",
       "    )\n",
       "  )\n",
       "), opt_func=functools.partial(<class 'torch.optim.adam.Adam'>, betas=(0.9, 0.99)), loss_func=FlattenedLoss of CrossEntropyLoss(), metrics=[<function accuracy at 0x7f81f43607b8>], true_wd=True, bn_wd=True, wd=0.01, train_bn=True, path=PosixPath('.'), model_dir='models', callback_fns=[functools.partial(<class 'fastai.basic_train.Recorder'>, add_time=True, silent=False), <class 'fastai.train.ShowGraph'>], callbacks=[RNNTrainer\n",
       "learn: RNNLearner(data=TextClasDataBunch;\n",
       "\n",
       "Train: LabelList (43686 items)\n",
       "x: TextList\n",
       "xxbos new starter bucharestwednesday pm re va ne si va la,xxbos log on to oracle for the xxunk hi please rise assign thank best regards log hi please help having difficulties getting platform senior mob,xxbos new purchase popurchase po dear purchased cs stand alone wireless presentation meeting rooms link please log allocation please help device kind regards administrator,xxbos add this type of notifications the possible root cause xxunk march logged has resolved hello please sr snow add type possible root cause thank leader ext thursday march logged has resolved hello please advised assigned queue has resolved summary issues reported by added date resolution details mailbox databases after which re activated mailbox databases back per activation preference number resolver resolution date kind regards ext ref msg,xxbos passwordwednesday pm hi engineer coming tomorrow replace faulty controller replacement controller configured entered console thames suite thankyou\n",
       "y: CategoryList\n",
       "4,4,5,4,4\n",
       "Path: .;\n",
       "\n",
       "Valid: LabelList (4854 items)\n",
       "x: TextList\n",
       "xxbos reportreport hi form review comment allow make comments compliance kindly ask you fix kind regards senior manager,xxbos weekly renewalweekly renewal dear please be advised guest successfully changed quotes following devices none failed change reason connection timed out reason connection timed out case you found any devices under failed list or if any other errors were reported please contact have great ahead,xxbos possible few days left for tax filing due date file your taxes xxunk days left for tax filing due date file your taxes could you please believe kind virus sent monday july few days left for tax filing due date file your taxes hi made tax filing much easier faster year you need form finish your tax filing less than minutes start you can file yourself for free matter how complex your returns have switched jobs multiple form individuals having income gains interest etc foreign income income xxunk start please file avoid rush before last date thanks st july onwards mandatory link your xxunk with mention your returns if you have for you can mention xxunk number your returns if you would like receive these please here,xxbos incorrect time staff cost new passent wednesday february incorrect cost importance high hello guys contract hours for days were imported below instead what was logged invoiced client please could you fix prevent issue going forward worked correctly before thanks officer,xxbos add to mailbox fullwednesday december pm mailbox hi please add member write ability mailbox thanks officer\n",
       "y: CategoryList\n",
       "4,8,11,4,4\n",
       "Path: .;\n",
       "\n",
       "Test: None, model=SequentialRNN(\n",
       "  (0): MultiBatchEncoder(\n",
       "    (module): AWD_LSTM(\n",
       "      (encoder): Embedding(10672, 400, padding_idx=1)\n",
       "      (encoder_dp): EmbeddingDropout(\n",
       "        (emb): Embedding(10672, 400, padding_idx=1)\n",
       "      )\n",
       "      (rnns): ModuleList(\n",
       "        (0): WeightDropout(\n",
       "          (module): LSTM(400, 1152, batch_first=True)\n",
       "        )\n",
       "        (1): WeightDropout(\n",
       "          (module): LSTM(1152, 1152, batch_first=True)\n",
       "        )\n",
       "        (2): WeightDropout(\n",
       "          (module): LSTM(1152, 400, batch_first=True)\n",
       "        )\n",
       "      )\n",
       "      (input_dp): RNNDropout()\n",
       "      (hidden_dps): ModuleList(\n",
       "        (0): RNNDropout()\n",
       "        (1): RNNDropout()\n",
       "        (2): RNNDropout()\n",
       "      )\n",
       "    )\n",
       "  )\n",
       "  (1): PoolingLinearClassifier(\n",
       "    (layers): Sequential(\n",
       "      (0): BatchNorm1d(1200, eps=1e-05, momentum=0.1, affine=True, track_running_stats=True)\n",
       "      (1): Dropout(p=0.2, inplace=False)\n",
       "      (2): Linear(in_features=1200, out_features=50, bias=True)\n",
       "      (3): ReLU(inplace=True)\n",
       "      (4): BatchNorm1d(50, eps=1e-05, momentum=0.1, affine=True, track_running_stats=True)\n",
       "      (5): Dropout(p=0.1, inplace=False)\n",
       "      (6): Linear(in_features=50, out_features=10, bias=True)\n",
       "    )\n",
       "  )\n",
       "), opt_func=functools.partial(<class 'torch.optim.adam.Adam'>, betas=(0.9, 0.99)), loss_func=FlattenedLoss of CrossEntropyLoss(), metrics=[<function accuracy at 0x7f81f43607b8>], true_wd=True, bn_wd=True, wd=0.01, train_bn=True, path=PosixPath('.'), model_dir='models', callback_fns=[functools.partial(<class 'fastai.basic_train.Recorder'>, add_time=True, silent=False), <class 'fastai.train.ShowGraph'>], callbacks=[...], layer_groups=[Sequential(\n",
       "  (0): Embedding(10672, 400, padding_idx=1)\n",
       "  (1): EmbeddingDropout(\n",
       "    (emb): Embedding(10672, 400, padding_idx=1)\n",
       "  )\n",
       "), Sequential(\n",
       "  (0): WeightDropout(\n",
       "    (module): LSTM(400, 1152, batch_first=True)\n",
       "  )\n",
       "  (1): RNNDropout()\n",
       "), Sequential(\n",
       "  (0): WeightDropout(\n",
       "    (module): LSTM(1152, 1152, batch_first=True)\n",
       "  )\n",
       "  (1): RNNDropout()\n",
       "), Sequential(\n",
       "  (0): WeightDropout(\n",
       "    (module): LSTM(1152, 400, batch_first=True)\n",
       "  )\n",
       "  (1): RNNDropout()\n",
       "), Sequential(\n",
       "  (0): PoolingLinearClassifier(\n",
       "    (layers): Sequential(\n",
       "      (0): BatchNorm1d(1200, eps=1e-05, momentum=0.1, affine=True, track_running_stats=True)\n",
       "      (1): Dropout(p=0.2, inplace=False)\n",
       "      (2): Linear(in_features=1200, out_features=50, bias=True)\n",
       "      (3): ReLU(inplace=True)\n",
       "      (4): BatchNorm1d(50, eps=1e-05, momentum=0.1, affine=True, track_running_stats=True)\n",
       "      (5): Dropout(p=0.1, inplace=False)\n",
       "      (6): Linear(in_features=50, out_features=10, bias=True)\n",
       "    )\n",
       "  )\n",
       ")], add_time=True, silent=False, cb_fns_registered=True)\n",
       "alpha: 2.0\n",
       "beta: 1.0], layer_groups=[Sequential(\n",
       "  (0): Embedding(10672, 400, padding_idx=1)\n",
       "  (1): EmbeddingDropout(\n",
       "    (emb): Embedding(10672, 400, padding_idx=1)\n",
       "  )\n",
       "), Sequential(\n",
       "  (0): WeightDropout(\n",
       "    (module): LSTM(400, 1152, batch_first=True)\n",
       "  )\n",
       "  (1): RNNDropout()\n",
       "), Sequential(\n",
       "  (0): WeightDropout(\n",
       "    (module): LSTM(1152, 1152, batch_first=True)\n",
       "  )\n",
       "  (1): RNNDropout()\n",
       "), Sequential(\n",
       "  (0): WeightDropout(\n",
       "    (module): LSTM(1152, 400, batch_first=True)\n",
       "  )\n",
       "  (1): RNNDropout()\n",
       "), Sequential(\n",
       "  (0): PoolingLinearClassifier(\n",
       "    (layers): Sequential(\n",
       "      (0): BatchNorm1d(1200, eps=1e-05, momentum=0.1, affine=True, track_running_stats=True)\n",
       "      (1): Dropout(p=0.2, inplace=False)\n",
       "      (2): Linear(in_features=1200, out_features=50, bias=True)\n",
       "      (3): ReLU(inplace=True)\n",
       "      (4): BatchNorm1d(50, eps=1e-05, momentum=0.1, affine=True, track_running_stats=True)\n",
       "      (5): Dropout(p=0.1, inplace=False)\n",
       "      (6): Linear(in_features=50, out_features=10, bias=True)\n",
       "    )\n",
       "  )\n",
       ")], add_time=True, silent=False, cb_fns_registered=True)"
      ]
     },
     "execution_count": 56,
     "metadata": {},
     "output_type": "execute_result"
    }
   ],
   "source": [
    "# Lead/save model\n",
    "learn_cl.save('model_cl') #first_cl.pth\n",
    "#learn_cl.load('model_cl')"
   ]
  },
  {
   "cell_type": "markdown",
   "metadata": {},
   "source": [
    "### Check model"
   ]
  },
  {
   "cell_type": "code",
   "execution_count": 25,
   "metadata": {},
   "outputs": [
    {
     "data": {
      "text/plain": [
       "(Category 11,\n",
       " tensor(8),\n",
       " tensor([3.7321e-04, 1.1352e-04, 2.4197e-01, 2.4952e-02, 3.2622e-02, 1.7472e-01,\n",
       "         9.2528e-04, 2.3851e-05, 5.2427e-01, 2.9317e-05]))"
      ]
     },
     "execution_count": 25,
     "metadata": {},
     "output_type": "execute_result"
    }
   ],
   "source": [
    "learn_cl.predict(\"hello we noticed doors open require card be swiped\") # category 11"
   ]
  },
  {
   "cell_type": "code",
   "execution_count": 26,
   "metadata": {},
   "outputs": [
    {
     "data": {
      "image/png": "[encoded data removed]",
      "text/plain": [
       "<Figure size 432x288 with 1 Axes>"
      ]
     },
     "metadata": {
      "needs_background": "light"
     },
     "output_type": "display_data"
    }
   ],
   "source": [
    "interp = ClassificationInterpretation.from_learner(learn_cl)\n",
    "interp.plot_confusion_matrix(title='Confusion matrix')"
   ]
  },
  {
   "cell_type": "code",
   "execution_count": 35,
   "metadata": {},
   "outputs": [
    {
     "data": {
      "text/html": [
       "<table border=\"1\" class=\"dataframe\">\n",
       "  <thead>\n",
       "    <tr style=\"text-align: right;\">\n",
       "      <th>text</th>\n",
       "      <th>target</th>\n",
       "      <th>prediction</th>\n",
       "    </tr>\n",
       "  </thead>\n",
       "  <tbody>\n",
       "    <tr>\n",
       "      <td>xxbos not workingsent friday working good morning trying connect via but working please log below built enter password socket listening need hold release interface waiting client connected log hold off hold release warning server certificate verification method enabled for more info note current script setting allow configuration call defined scripts socket buffers resolve attempting establish connection with connect connection established with client link client link remote wait initial packet warning</td>\n",
       "      <td>5</td>\n",
       "      <td>4</td>\n",
       "    </tr>\n",
       "    <tr>\n",
       "      <td>xxbos issues with outlook and ad profilesent friday for extension assigned hi please raise for below queue thanks senior engineer sent friday re for extension assigned thank you you can handle remotely would prefer have delivered by post case thank you for sent re for extension assigned hi can prepare for you laptop during frankfurt order setup your you have using your credentials while laptop connected having said we have</td>\n",
       "      <td>4</td>\n",
       "      <td>9</td>\n",
       "    </tr>\n",
       "    <tr>\n",
       "      <td>xxbos user guidance service now xxunk december pm nj phone lines connecting please log topic about user guidance interface please assign best regards consultant friday december pm re nj phone lines connecting chrome latest safari thanks senior engineer ext date friday december re nj phone lines connecting hi looking image incompatibility view issue please version safari browser safari versions fully supported by were chrome browser where impersonated please chrome waiting</td>\n",
       "      <td>4</td>\n",
       "      <td>4</td>\n",
       "    </tr>\n",
       "    <tr>\n",
       "      <td>xxbos and from xxunk hi assist change regards friday november machine ca forward la la thursday november pm swift re machine hi suggest traffic routed example were second add traffic shows think guys add kind regards november re machine hi tracing route over maximum hops timed out timed out timed out timed out timed out thanks thursday november pm re machine hi thank result instead kind regards november machine tracing</td>\n",
       "      <td>4</td>\n",
       "      <td>4</td>\n",
       "    </tr>\n",
       "    <tr>\n",
       "      <td>xxbos make xxunk december re update migration issue hello please make location editable kind regards discipline lead thursday december re update migration issue importance high hi looking please make available again until manage transfer information site thank mobile next vacations rd thursday december re update migration issue hello received asking considered invoicing believe links must editable mode please let great discipline lead wednesday december pm re update migration issue importance</td>\n",
       "      <td>4</td>\n",
       "      <td>4</td>\n",
       "    </tr>\n",
       "  </tbody>\n",
       "</table>"
      ],
      "text/plain": [
       "<IPython.core.display.HTML object>"
      ]
     },
     "metadata": {},
     "output_type": "display_data"
    }
   ],
   "source": [
    "# Classification report\n",
    "# classification_report(test_labels, predicted, target_names=np.unique(test_labels))\n",
    "results = learn_cl.show_results()\n",
    "results"
   ]
  },
  {
   "cell_type": "code",
   "execution_count": 37,
   "metadata": {},
   "outputs": [
    {
     "data": {
      "text/plain": [
       "[tensor([[1.3023e-03, 1.4012e-03, 7.1287e-01,  ..., 1.2970e-04, 7.2132e-04,\n",
       "          2.0378e-05],\n",
       "         [3.7986e-03, 2.0576e-02, 3.7461e-01,  ..., 4.6040e-01, 1.4550e-03,\n",
       "          5.1098e-04],\n",
       "         [4.4477e-03, 1.4833e-03, 7.8909e-01,  ..., 3.2302e-04, 1.0008e-03,\n",
       "          1.2457e-03],\n",
       "         ...,\n",
       "         [2.0512e-02, 6.1521e-02, 5.0022e-01,  ..., 1.6715e-02, 2.0030e-02,\n",
       "          2.5243e-03],\n",
       "         [9.0858e-03, 2.2696e-02, 7.3161e-01,  ..., 5.1529e-04, 9.1526e-03,\n",
       "          1.5315e-04],\n",
       "         [1.9831e-02, 5.8653e-02, 5.0291e-01,  ..., 6.4498e-03, 1.1451e-02,\n",
       "          2.2106e-03]]), tensor([3, 2, 2,  ..., 2, 1, 3])]"
      ]
     },
     "execution_count": 37,
     "metadata": {},
     "output_type": "execute_result"
    }
   ],
   "source": [
    "predictions = learn_cl.get_preds()\n",
    "predictions"
   ]
  },
  {
   "cell_type": "code",
   "execution_count": 47,
   "metadata": {},
   "outputs": [
    {
     "name": "stderr",
     "output_type": "stream",
     "text": [
      "/home/ubuntu/anaconda3/lib/python3.6/site-packages/fastai/metrics.py:189: UserWarning: average=`binary` was selected for a non binary case. Value for average has now been set to `macro` instead.\n",
      "  warn(\"average=`binary` was selected for a non binary case. Value for average has now been set to `macro` instead.\")\n"
     ]
    },
    {
     "data": {
      "text/plain": [
       "[0.3403043, tensor(0.8879), tensor(0.8111), tensor(0.6471), tensor(0.8879)]"
      ]
     },
     "execution_count": 47,
     "metadata": {},
     "output_type": "execute_result"
    }
   ],
   "source": [
    "validation = learn_cl.validate(metrics=[accuracy, Precision(), Recall(), FBeta(beta=1, average='micro')])\n",
    "validation"
   ]
  },
  {
   "cell_type": "code",
   "execution_count": 54,
   "metadata": {},
   "outputs": [
    {
     "name": "stderr",
     "output_type": "stream",
     "text": [
      "/home/ubuntu/anaconda3/lib/python3.6/site-packages/fastai/metrics.py:189: UserWarning: average=`binary` was selected for a non binary case. Value for average has now been set to `macro` instead.\n",
      "  warn(\"average=`binary` was selected for a non binary case. Value for average has now been set to `macro` instead.\")\n"
     ]
    },
    {
     "data": {
      "text/plain": [
       "[0.3392543, tensor(0.8879), tensor(0.7837), tensor(0.6698), tensor(0.8879)]"
      ]
     },
     "execution_count": 54,
     "metadata": {},
     "output_type": "execute_result"
    }
   ],
   "source": [
    "learn_cl.validate(metrics=[accuracy, Precision(), Recall(), FBeta(beta=1, average='micro')])"
   ]
  },
  {
   "cell_type": "code",
   "execution_count": 29,
   "metadata": {},
   "outputs": [
    {
     "name": "stderr",
     "output_type": "stream",
     "text": [
      "/opt/conda/conda-bld/pytorch_1565272279342/work/aten/src/ATen/native/cuda/LegacyDefinitions.cpp:14: UserWarning: masked_fill_ received a mask with dtype torch.uint8, this behavior is now deprecated,please use a mask with dtype torch.bool instead.\n",
      "/opt/conda/conda-bld/pytorch_1565272279342/work/aten/src/ATen/native/cuda/LegacyDefinitions.cpp:14: UserWarning: masked_fill_ received a mask with dtype torch.uint8, this behavior is now deprecated,please use a mask with dtype torch.bool instead.\n",
      "/opt/conda/conda-bld/pytorch_1565272279342/work/aten/src/ATen/native/cuda/LegacyDefinitions.cpp:14: UserWarning: masked_fill_ received a mask with dtype torch.uint8, this behavior is now deprecated,please use a mask with dtype torch.bool instead.\n",
      "/opt/conda/conda-bld/pytorch_1565272279342/work/aten/src/ATen/native/cuda/LegacyDefinitions.cpp:14: UserWarning: masked_fill_ received a mask with dtype torch.uint8, this behavior is now deprecated,please use a mask with dtype torch.bool instead.\n"
     ]
    },
    {
     "data": {
      "text/html": [
       "<span style=\"font-family: monospace;\"><span title=\"0.144\" style=\"background-color: rgba(236, 234, 243, 0.5);\">xxbos</span> <span title=\"0.644\" style=\"background-color: rgba(124, 118, 182, 0.5);\">i</span> <span title=\"0.800\" style=\"background-color: rgba(97, 64, 155, 0.5);\">lost</span> <span title=\"0.482\" style=\"background-color: rgba(162, 158, 202, 0.5);\">the</span> <span title=\"1.000\" style=\"background-color: rgba(63, 0, 125, 0.5);\">password</span> <span title=\"0.299\" style=\"background-color: rgba(206, 206, 229, 0.5);\">to</span> <span title=\"0.375\" style=\"background-color: rgba(188, 189, 220, 0.5);\">xxunk</span> <span title=\"0.813\" style=\"background-color: rgba(94, 58, 152, 0.5);\">laptop</span></span>"
      ],
      "text/plain": [
       "<IPython.core.display.HTML object>"
      ]
     },
     "metadata": {},
     "output_type": "display_data"
    }
   ],
   "source": [
    "# Model interpretation with attention\n",
    "txt_ci = TextClassificationInterpretation.from_learner(learn_cl)\n",
    "test_text = \"I lost the password to my laptop\"\n",
    "txt_ci.show_intrinsic_attention(test_text,cmap=cm.Purples)"
   ]
  }
 ],
 "metadata": {
  "kernelspec": {
   "display_name": "Python 3",
   "language": "python",
   "name": "python3"
  },
  "language_info": {
   "codemirror_mode": {
    "name": "ipython",
    "version": 3
   },
   "file_extension": ".py",
   "mimetype": "text/x-python",
   "name": "python",
   "nbconvert_exporter": "python",
   "pygments_lexer": "ipython3",
   "version": "3.6.9"
  }
 },
 "nbformat": 4,
 "nbformat_minor": 2
}
